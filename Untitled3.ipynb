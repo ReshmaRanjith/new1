{
 "cells": [
  {
   "cell_type": "code",
   "execution_count": 1,
   "id": "5094e472-a712-4fe5-8d81-bbf36bb70780",
   "metadata": {},
   "outputs": [
    {
     "name": "stdout",
     "output_type": "stream",
     "text": [
      "we have a match\n"
     ]
    }
   ],
   "source": [
    "import re\n",
    "txt=\"the rain in spain\"\n",
    "x=re.search(\"^the.*spain$\",txt)\n",
    "if x:\n",
    "    print(\"we have a match\")\n",
    "else:\n",
    "    print(\"no match\")"
   ]
  },
  {
   "cell_type": "code",
   "execution_count": 2,
   "id": "a747bf10-4782-478b-9b2b-dff9ddc0c65e",
   "metadata": {},
   "outputs": [
    {
     "name": "stdout",
     "output_type": "stream",
     "text": [
      "['ai', 'ai']\n"
     ]
    }
   ],
   "source": [
    "import re\n",
    "txt=\"the rain in spain\"\n",
    "x=re.findall(\"ai\",txt)\n",
    "print(x)"
   ]
  },
  {
   "cell_type": "code",
   "execution_count": 3,
   "id": "38cc254c-8a68-4d1a-aff1-e6da6e5bd67b",
   "metadata": {},
   "outputs": [
    {
     "name": "stdout",
     "output_type": "stream",
     "text": [
      "no match\n"
     ]
    }
   ],
   "source": [
    "import re\n",
    "txt=\"the rain in spain\"\n",
    "x=re.findall(\"portugal\",txt)\n",
    "if (x):\n",
    "    print(\"yes there is a match\")\n",
    "else:\n",
    "    print(\"no match\")"
   ]
  },
  {
   "cell_type": "code",
   "execution_count": 4,
   "id": "ee9c3737-ac32-4105-b6ae-6dc493c528e8",
   "metadata": {},
   "outputs": [
    {
     "name": "stdout",
     "output_type": "stream",
     "text": [
      "the first whitespace character is loaded in position: 3\n"
     ]
    },
    {
     "name": "stderr",
     "output_type": "stream",
     "text": [
      "<>:3: SyntaxWarning: invalid escape sequence '\\s'\n",
      "<>:3: SyntaxWarning: invalid escape sequence '\\s'\n",
      "C:\\Users\\USER\\AppData\\Local\\Temp\\ipykernel_2976\\3388485925.py:3: SyntaxWarning: invalid escape sequence '\\s'\n",
      "  x=re.search(\"\\s\",txt)\n"
     ]
    }
   ],
   "source": [
    "import re\n",
    "txt=\"the rain in spain\"\n",
    "x=re.search(\"\\s\",txt)\n",
    "print(\"the first whitespace character is loaded in position:\",x.start())"
   ]
  },
  {
   "cell_type": "code",
   "execution_count": 5,
   "id": "ae7525e3-9f48-430a-9f63-0debdbb04b51",
   "metadata": {},
   "outputs": [
    {
     "name": "stdout",
     "output_type": "stream",
     "text": [
      "None\n"
     ]
    }
   ],
   "source": [
    "import re\n",
    "txt=\"the rain in spain\"\n",
    "x=re.search(\"portugal\",txt)\n",
    "print(x)\n"
   ]
  },
  {
   "cell_type": "code",
   "execution_count": 6,
   "id": "2baf2014-d68d-4633-828a-27eb20103da9",
   "metadata": {},
   "outputs": [
    {
     "name": "stdout",
     "output_type": "stream",
     "text": [
      "['the', 'rain in spain']\n"
     ]
    },
    {
     "name": "stderr",
     "output_type": "stream",
     "text": [
      "<>:3: SyntaxWarning: invalid escape sequence '\\s'\n",
      "<>:3: SyntaxWarning: invalid escape sequence '\\s'\n",
      "C:\\Users\\USER\\AppData\\Local\\Temp\\ipykernel_2976\\2257687391.py:3: SyntaxWarning: invalid escape sequence '\\s'\n",
      "  x=re.split(\"\\s\",txt,1)\n"
     ]
    }
   ],
   "source": [
    "import re\n",
    "txt=\"the rain in spain\"\n",
    "x=re.split(\"\\s\",txt,1)\n",
    "print(x)"
   ]
  },
  {
   "cell_type": "code",
   "execution_count": 7,
   "id": "3e5009e9-ebf8-43fb-8bce-c9f2e363644d",
   "metadata": {},
   "outputs": [
    {
     "name": "stdout",
     "output_type": "stream",
     "text": [
      "the9rain9in9spain\n"
     ]
    },
    {
     "name": "stderr",
     "output_type": "stream",
     "text": [
      "<>:3: SyntaxWarning: invalid escape sequence '\\s'\n",
      "<>:3: SyntaxWarning: invalid escape sequence '\\s'\n",
      "C:\\Users\\USER\\AppData\\Local\\Temp\\ipykernel_2976\\869525389.py:3: SyntaxWarning: invalid escape sequence '\\s'\n",
      "  x=re.sub(\"\\s\",\"9\",txt)\n"
     ]
    }
   ],
   "source": [
    "import re\n",
    "txt=\"the rain in spain\"\n",
    "x=re.sub(\"\\s\",\"9\",txt)\n",
    "print (x)"
   ]
  },
  {
   "cell_type": "code",
   "execution_count": 9,
   "id": "27c68561-3840-4240-8074-04b9b3b84157",
   "metadata": {},
   "outputs": [
    {
     "name": "stdout",
     "output_type": "stream",
     "text": [
      "the9rain9in spain\n"
     ]
    },
    {
     "name": "stderr",
     "output_type": "stream",
     "text": [
      "<>:3: SyntaxWarning: invalid escape sequence '\\s'\n",
      "<>:3: SyntaxWarning: invalid escape sequence '\\s'\n",
      "C:\\Users\\USER\\AppData\\Local\\Temp\\ipykernel_2976\\4034960095.py:3: SyntaxWarning: invalid escape sequence '\\s'\n",
      "  x=re.sub(\"\\s\",\"9\",txt,2)\n"
     ]
    }
   ],
   "source": [
    "import re\n",
    "txt=\"the rain in spain\"\n",
    "x=re.sub(\"\\s\",\"9\",txt,2)\n",
    "print(x)"
   ]
  },
  {
   "cell_type": "code",
   "execution_count": 10,
   "id": "d708c9d5-fdeb-4afb-9530-aa50b2dd3056",
   "metadata": {},
   "outputs": [
    {
     "name": "stdout",
     "output_type": "stream",
     "text": [
      "<re.Match object; span=(5, 7), match='ai'>\n"
     ]
    }
   ],
   "source": [
    "import re\n",
    "txt=\"the rain in spain\"\n",
    "x=re.search(\"ai\",txt)\n",
    "print(x)"
   ]
  },
  {
   "cell_type": "code",
   "execution_count": 13,
   "id": "9c79dd69-b2b6-4673-9e36-47533eabc8c6",
   "metadata": {},
   "outputs": [
    {
     "name": "stdout",
     "output_type": "stream",
     "text": [
      "(12, 17)\n"
     ]
    }
   ],
   "source": [
    "import re\n",
    "txt=\"the rain in spain\"\n",
    "x=re.search(r\"\\bs\\w+\",txt)\n",
    "print(x.span())"
   ]
  },
  {
   "cell_type": "code",
   "execution_count": 12,
   "id": "883af84c-d085-4ecf-9e74-043c494c4f48",
   "metadata": {},
   "outputs": [
    {
     "name": "stdout",
     "output_type": "stream",
     "text": [
      "the rain in spain\n"
     ]
    }
   ],
   "source": [
    "import re\n",
    "txt=\"the rain in spain\"\n",
    "x=re.search(r\"\\bs\\w+\",txt)\n",
    "print(x.string)"
   ]
  },
  {
   "cell_type": "code",
   "execution_count": 15,
   "id": "55b8e6a0-31dc-4d4b-bf70-91af503672e4",
   "metadata": {},
   "outputs": [],
   "source": [
    "from tkinter import*\n",
    "root=Tk()\n",
    "a=Label(root,text=\"hello world\")\n",
    "a.pack()\n",
    "root.mainloop()"
   ]
  },
  {
   "cell_type": "code",
   "execution_count": 2,
   "id": "896bbe38-cdae-4fb0-a65d-0527ab5494b2",
   "metadata": {},
   "outputs": [],
   "source": [
    "from tkinter import*\n",
    "root=Tk()\n",
    "root.geometry('100x100')\n",
    "btn=Button(root,text='click me:',bd='5',command=root.destroy)\n",
    "btn.pack(side='top')\n",
    "root.mainloop()"
   ]
  },
  {
   "cell_type": "code",
   "execution_count": 3,
   "id": "1c29096e-2d84-4cc1-aaff-d9dcd9202987",
   "metadata": {},
   "outputs": [],
   "source": [
    "from tkinter import*\n",
    "from tkinter .ttk import*\n",
    "root=Tk()\n",
    "root.geometry('100x100')\n",
    "btn=Button(root,text='click me!',command=root.destroy)\n",
    "btn.pack(side='top')\n",
    "root.mainloop()"
   ]
  },
  {
   "cell_type": "code",
   "execution_count": 17,
   "id": "3515bda0-d4c9-4ba0-a93c-8166f7246d9a",
   "metadata": {},
   "outputs": [],
   "source": [
    "from tkinter import*\n",
    "from tkinter .ttk import*\n",
    "root=Tk()\n",
    "root.geometry('100x100')\n",
    "style=Style()\n",
    "style.configure('W.TButton',font=('calibri',10,'bold','underline'),foreground='red')\n",
    "btn1=Button(root,text='quit!',style='W.TButton',command=root.destroy)\n",
    "btn1.grid(row=0,column=3,padx=100)\n",
    "btn2=Button(root,text='click me',command=None)\n",
    "btn2.grid(row=1,column=3,pady=10,padx=100)\n",
    "root.mainloop()"
   ]
  },
  {
   "cell_type": "code",
   "execution_count": 28,
   "id": "07b8f454-461f-4dbe-b8d5-07efd5d3cd64",
   "metadata": {},
   "outputs": [],
   "source": [
    "from tkinter import Tk,mainloop,LEFT,TOP\n",
    "from tkinter .ttk import*\n",
    "root=Tk()\n",
    "root.geometry('250x150')\n",
    "label_frame=LabelFrame(root,text='This is label frame')\n",
    "label_frame.pack(expand='yes',fill='both')\n",
    "label1=Label(label_frame,text='1.this is a label.')\n",
    "label1.place(x=0,y=5)\n",
    "label2=Label(label_frame,text='2.this is another label.')\n",
    "label2.place(x=0,y=35)\n",
    "label3=Label(label_frame,text='3.we can add multiple \\n widgets in it.')\n",
    "label3.place(x=0,y=65)\n",
    "mainloop()\n",
    "\n"
   ]
  },
  {
   "cell_type": "code",
   "execution_count": null,
   "id": "107c4556-0ca8-407c-a02b-3dc9fca15b75",
   "metadata": {},
   "outputs": [],
   "source": []
  },
  {
   "cell_type": "code",
   "execution_count": null,
   "id": "35d1cf1d-d3aa-419b-98f0-11e9d3e00482",
   "metadata": {},
   "outputs": [],
   "source": []
  },
  {
   "cell_type": "code",
   "execution_count": null,
   "id": "8547442e-ee26-4df4-8667-8f3f0f41c619",
   "metadata": {},
   "outputs": [],
   "source": []
  }
 ],
 "metadata": {
  "kernelspec": {
   "display_name": "Python 3 (ipykernel)",
   "language": "python",
   "name": "python3"
  },
  "language_info": {
   "codemirror_mode": {
    "name": "ipython",
    "version": 3
   },
   "file_extension": ".py",
   "mimetype": "text/x-python",
   "name": "python",
   "nbconvert_exporter": "python",
   "pygments_lexer": "ipython3",
   "version": "3.12.8"
  }
 },
 "nbformat": 4,
 "nbformat_minor": 5
}
